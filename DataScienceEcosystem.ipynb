{
 "cells": [
  {
   "cell_type": "markdown",
   "id": "193f49b7",
   "metadata": {},
   "source": [
    "#                  Data Science Tools and Ecosystem\n"
   ]
  },
  {
   "cell_type": "markdown",
   "id": "f74a2456",
   "metadata": {},
   "source": [
    "## Introduction\n",
    "##### In this notebook, Data Science Tools and Ecosystem are summarized."
   ]
  },
  {
   "cell_type": "markdown",
   "id": "e924c9a6",
   "metadata": {},
   "source": [
    "#### Objectives:\n",
    "* List popular languages for Data Science\n",
    "* data science languages\n",
    "* data science libraries\n",
    "* Data Science tools\n",
    "* Arithmetic operation"
   ]
  },
  {
   "cell_type": "markdown",
   "id": "236d1dc5",
   "metadata": {},
   "source": [
    "## data science languages\n",
    "##### Some of the popular languages that Data Scientists use are:\n",
    "1. Python\n",
    "2. R\n",
    "3. Java \n",
    "4. C++\n",
    "5. Scala\n",
    "6. SQL"
   ]
  },
  {
   "cell_type": "markdown",
   "id": "df0ba426",
   "metadata": {},
   "source": [
    "## data science libraries\n",
    "##### Some of the commonly used libraries used by Data Scientists include:\n",
    "1. PANDAS\n",
    "2. NumPy\n",
    "3. Matplotlib\n",
    "4. Seaborn\n",
    "5. Scikit-Learn \n"
   ]
  },
  {
   "cell_type": "markdown",
   "id": "63a6d056",
   "metadata": {},
   "source": [
    "## Data Science tools\n",
    "\n",
    "| Data Science Tools |\n",
    "| ------------------ |\n",
    "| Jupyter Notebooks |\n",
    "| RStudio |\n",
    "| Apache Zeppelin |\n",
    "                \n",
    "                \n",
    "                \n",
    "                \n",
    "                \n",
    " "
   ]
  },
  {
   "cell_type": "markdown",
   "id": "961b08f1",
   "metadata": {},
   "source": [
    "### Below are a few examples of evaluating arithmetic expressions in Python:\n"
   ]
  },
  {
   "cell_type": "code",
   "execution_count": 5,
   "id": "f26fec3e",
   "metadata": {},
   "outputs": [
    {
     "data": {
      "text/plain": [
       "17"
      ]
     },
     "execution_count": 5,
     "metadata": {},
     "output_type": "execute_result"
    }
   ],
   "source": [
    "# This a simple arithmetic expression to mutiply then add integers\n",
    "(3*4)+5"
   ]
  },
  {
   "cell_type": "code",
   "execution_count": 9,
   "id": "affa8572",
   "metadata": {},
   "outputs": [
    {
     "name": "stdout",
     "output_type": "stream",
     "text": [
      "the number of hours is 3.3333333333333335 H\n"
     ]
    }
   ],
   "source": [
    "# This will convert 200 minutes to hours by diving by 60\n",
    "h = 200 / 60\n",
    "print(\"the number of hours is {} H\".format(h))"
   ]
  },
  {
   "cell_type": "markdown",
   "id": "e5f27e8e",
   "metadata": {},
   "source": [
    "## Author\n",
    "MOHAMED AMHAL"
   ]
  },
  {
   "cell_type": "code",
   "execution_count": null,
   "id": "edd748de",
   "metadata": {},
   "outputs": [],
   "source": []
  }
 ],
 "metadata": {
  "kernelspec": {
   "display_name": "Python 3 (ipykernel)",
   "language": "python",
   "name": "python3"
  },
  "language_info": {
   "codemirror_mode": {
    "name": "ipython",
    "version": 3
   },
   "file_extension": ".py",
   "mimetype": "text/x-python",
   "name": "python",
   "nbconvert_exporter": "python",
   "pygments_lexer": "ipython3",
   "version": "3.11.5"
  }
 },
 "nbformat": 4,
 "nbformat_minor": 5
}
